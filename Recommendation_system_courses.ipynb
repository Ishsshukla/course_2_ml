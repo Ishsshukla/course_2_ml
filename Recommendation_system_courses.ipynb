{
 "cells": [
  {
   "cell_type": "code",
   "execution_count": 94,
   "metadata": {},
   "outputs": [],
   "source": [
    "import numpy as np \n",
    "import pandas as pd \n"
   ]
  },
  {
   "cell_type": "code",
   "execution_count": 95,
   "metadata": {},
   "outputs": [
    {
     "data": {
      "text/plain": [
       "(267, 11)"
      ]
     },
     "execution_count": 95,
     "metadata": {},
     "output_type": "execute_result"
    }
   ],
   "source": [
    "df=pd.read_csv(\"all_courses.csv\")\n",
    "df.shape\n"
   ]
  },
  {
   "cell_type": "code",
   "execution_count": 96,
   "metadata": {},
   "outputs": [
    {
     "data": {
      "text/html": [
       "<div>\n",
       "<style scoped>\n",
       "    .dataframe tbody tr th:only-of-type {\n",
       "        vertical-align: middle;\n",
       "    }\n",
       "\n",
       "    .dataframe tbody tr th {\n",
       "        vertical-align: top;\n",
       "    }\n",
       "\n",
       "    .dataframe thead th {\n",
       "        text-align: right;\n",
       "    }\n",
       "</style>\n",
       "<table border=\"1\" class=\"dataframe\">\n",
       "  <thead>\n",
       "    <tr style=\"text-align: right;\">\n",
       "      <th></th>\n",
       "      <th>Title</th>\n",
       "      <th>Type</th>\n",
       "      <th>Description</th>\n",
       "      <th>Level</th>\n",
       "      <th>Duration</th>\n",
       "      <th>Rating</th>\n",
       "      <th>Review Count</th>\n",
       "      <th>Skills Covered</th>\n",
       "      <th>Prerequisites</th>\n",
       "      <th>Affiliates</th>\n",
       "      <th>URL</th>\n",
       "    </tr>\n",
       "  </thead>\n",
       "  <tbody>\n",
       "    <tr>\n",
       "      <th>0</th>\n",
       "      <td>Data Engineering with AWS</td>\n",
       "      <td>nanodegree</td>\n",
       "      <td>Learn to design data models, build data wareho...</td>\n",
       "      <td>intermediate</td>\n",
       "      <td>4 Months</td>\n",
       "      <td>4.6</td>\n",
       "      <td>1802.0</td>\n",
       "      <td>AWS Glue,  Amazon S3,  AWS Data Warehouse,  Re...</td>\n",
       "      <td>Intermediate Python, intermediate SQL &amp; comman...</td>\n",
       "      <td>NaN</td>\n",
       "      <td>https://www.udacity.com/course/data-engineer-n...</td>\n",
       "    </tr>\n",
       "    <tr>\n",
       "      <th>1</th>\n",
       "      <td>Product Manager</td>\n",
       "      <td>nanodegree</td>\n",
       "      <td>Envision and execute the development of indust...</td>\n",
       "      <td>beginner</td>\n",
       "      <td>4 Months</td>\n",
       "      <td>4.7</td>\n",
       "      <td>864.0</td>\n",
       "      <td>Product Strategy, Product Design, Product Deve...</td>\n",
       "      <td>No Experience Required</td>\n",
       "      <td>NaN</td>\n",
       "      <td>https://www.udacity.com/course/product-manager...</td>\n",
       "    </tr>\n",
       "    <tr>\n",
       "      <th>2</th>\n",
       "      <td>C++</td>\n",
       "      <td>nanodegree</td>\n",
       "      <td>Get hands-on experience building five real-wor...</td>\n",
       "      <td>intermediate</td>\n",
       "      <td>4 Months</td>\n",
       "      <td>4.5</td>\n",
       "      <td>1126.0</td>\n",
       "      <td>Data Structures &amp; Algorithms, Memory Managemen...</td>\n",
       "      <td>Intermediate Programming</td>\n",
       "      <td>NaN</td>\n",
       "      <td>https://www.udacity.com/course/c-plus-plus-nan...</td>\n",
       "    </tr>\n",
       "    <tr>\n",
       "      <th>3</th>\n",
       "      <td>Business Analytics</td>\n",
       "      <td>nanodegree</td>\n",
       "      <td>Gain foundational data skills like analyzing d...</td>\n",
       "      <td>beginner</td>\n",
       "      <td>3 Months</td>\n",
       "      <td>4.8</td>\n",
       "      <td>2649.0</td>\n",
       "      <td>Excel &amp; Spreadsheets, SQL, Data Visualization,...</td>\n",
       "      <td>NaN</td>\n",
       "      <td>Mode</td>\n",
       "      <td>https://www.udacity.com/course/business-analyt...</td>\n",
       "    </tr>\n",
       "    <tr>\n",
       "      <th>4</th>\n",
       "      <td>Data Scientist</td>\n",
       "      <td>nanodegree</td>\n",
       "      <td>Build effective machine learning models, run d...</td>\n",
       "      <td>advanced</td>\n",
       "      <td>4 Months</td>\n",
       "      <td>4.7</td>\n",
       "      <td>1212.0</td>\n",
       "      <td>Machine Learning, Deep Learning, Software Engi...</td>\n",
       "      <td>Python, SQL &amp; Statistics</td>\n",
       "      <td>Bertelsmann, Figure Eight, IBM Watson, Insight...</td>\n",
       "      <td>https://www.udacity.com/course/data-scientist-...</td>\n",
       "    </tr>\n",
       "  </tbody>\n",
       "</table>\n",
       "</div>"
      ],
      "text/plain": [
       "                       Title        Type  \\\n",
       "0  Data Engineering with AWS  nanodegree   \n",
       "1            Product Manager  nanodegree   \n",
       "2                        C++  nanodegree   \n",
       "3         Business Analytics  nanodegree   \n",
       "4             Data Scientist  nanodegree   \n",
       "\n",
       "                                         Description         Level  Duration  \\\n",
       "0  Learn to design data models, build data wareho...  intermediate  4 Months   \n",
       "1  Envision and execute the development of indust...      beginner  4 Months   \n",
       "2  Get hands-on experience building five real-wor...  intermediate  4 Months   \n",
       "3  Gain foundational data skills like analyzing d...      beginner  3 Months   \n",
       "4  Build effective machine learning models, run d...      advanced  4 Months   \n",
       "\n",
       "   Rating  Review Count                                     Skills Covered  \\\n",
       "0     4.6        1802.0  AWS Glue,  Amazon S3,  AWS Data Warehouse,  Re...   \n",
       "1     4.7         864.0  Product Strategy, Product Design, Product Deve...   \n",
       "2     4.5        1126.0  Data Structures & Algorithms, Memory Managemen...   \n",
       "3     4.8        2649.0  Excel & Spreadsheets, SQL, Data Visualization,...   \n",
       "4     4.7        1212.0  Machine Learning, Deep Learning, Software Engi...   \n",
       "\n",
       "                                       Prerequisites  \\\n",
       "0  Intermediate Python, intermediate SQL & comman...   \n",
       "1                             No Experience Required   \n",
       "2                           Intermediate Programming   \n",
       "3                                                NaN   \n",
       "4                           Python, SQL & Statistics   \n",
       "\n",
       "                                          Affiliates  \\\n",
       "0                                                NaN   \n",
       "1                                                NaN   \n",
       "2                                                NaN   \n",
       "3                                               Mode   \n",
       "4  Bertelsmann, Figure Eight, IBM Watson, Insight...   \n",
       "\n",
       "                                                 URL  \n",
       "0  https://www.udacity.com/course/data-engineer-n...  \n",
       "1  https://www.udacity.com/course/product-manager...  \n",
       "2  https://www.udacity.com/course/c-plus-plus-nan...  \n",
       "3  https://www.udacity.com/course/business-analyt...  \n",
       "4  https://www.udacity.com/course/data-scientist-...  "
      ]
     },
     "execution_count": 96,
     "metadata": {},
     "output_type": "execute_result"
    }
   ],
   "source": [
    "df.head(5)\n"
   ]
  },
  {
   "cell_type": "code",
   "execution_count": 97,
   "metadata": {},
   "outputs": [
    {
     "data": {
      "text/html": [
       "<div>\n",
       "<style scoped>\n",
       "    .dataframe tbody tr th:only-of-type {\n",
       "        vertical-align: middle;\n",
       "    }\n",
       "\n",
       "    .dataframe tbody tr th {\n",
       "        vertical-align: top;\n",
       "    }\n",
       "\n",
       "    .dataframe thead th {\n",
       "        text-align: right;\n",
       "    }\n",
       "</style>\n",
       "<table border=\"1\" class=\"dataframe\">\n",
       "  <thead>\n",
       "    <tr style=\"text-align: right;\">\n",
       "      <th></th>\n",
       "      <th>Rating</th>\n",
       "      <th>Review Count</th>\n",
       "    </tr>\n",
       "  </thead>\n",
       "  <tbody>\n",
       "    <tr>\n",
       "      <th>count</th>\n",
       "      <td>62.000000</td>\n",
       "      <td>62.000000</td>\n",
       "    </tr>\n",
       "    <tr>\n",
       "      <th>mean</th>\n",
       "      <td>4.595161</td>\n",
       "      <td>714.887097</td>\n",
       "    </tr>\n",
       "    <tr>\n",
       "      <th>std</th>\n",
       "      <td>0.123378</td>\n",
       "      <td>856.714006</td>\n",
       "    </tr>\n",
       "    <tr>\n",
       "      <th>min</th>\n",
       "      <td>4.300000</td>\n",
       "      <td>50.000000</td>\n",
       "    </tr>\n",
       "    <tr>\n",
       "      <th>25%</th>\n",
       "      <td>4.500000</td>\n",
       "      <td>151.000000</td>\n",
       "    </tr>\n",
       "    <tr>\n",
       "      <th>50%</th>\n",
       "      <td>4.600000</td>\n",
       "      <td>359.000000</td>\n",
       "    </tr>\n",
       "    <tr>\n",
       "      <th>75%</th>\n",
       "      <td>4.700000</td>\n",
       "      <td>849.000000</td>\n",
       "    </tr>\n",
       "    <tr>\n",
       "      <th>max</th>\n",
       "      <td>4.800000</td>\n",
       "      <td>3865.000000</td>\n",
       "    </tr>\n",
       "  </tbody>\n",
       "</table>\n",
       "</div>"
      ],
      "text/plain": [
       "          Rating  Review Count\n",
       "count  62.000000     62.000000\n",
       "mean    4.595161    714.887097\n",
       "std     0.123378    856.714006\n",
       "min     4.300000     50.000000\n",
       "25%     4.500000    151.000000\n",
       "50%     4.600000    359.000000\n",
       "75%     4.700000    849.000000\n",
       "max     4.800000   3865.000000"
      ]
     },
     "execution_count": 97,
     "metadata": {},
     "output_type": "execute_result"
    }
   ],
   "source": [
    "df.describe()"
   ]
  },
  {
   "cell_type": "code",
   "execution_count": 98,
   "metadata": {},
   "outputs": [
    {
     "name": "stdout",
     "output_type": "stream",
     "text": [
      "Index(['Title', 'Type', 'Description', 'Level', 'Duration', 'Rating',\n",
      "       'Review Count', 'Skills Covered', 'Prerequisites', 'Affiliates', 'URL'],\n",
      "      dtype='object')\n"
     ]
    }
   ],
   "source": [
    "\n",
    "print(df.columns)\n"
   ]
  },
  {
   "cell_type": "code",
   "execution_count": 99,
   "metadata": {},
   "outputs": [
    {
     "name": "stdout",
     "output_type": "stream",
     "text": [
      "<class 'pandas.core.frame.DataFrame'>\n",
      "RangeIndex: 267 entries, 0 to 266\n",
      "Data columns (total 11 columns):\n",
      " #   Column          Non-Null Count  Dtype  \n",
      "---  ------          --------------  -----  \n",
      " 0   Title           267 non-null    object \n",
      " 1   Type            267 non-null    object \n",
      " 2   Description     261 non-null    object \n",
      " 3   Level           265 non-null    object \n",
      " 4   Duration        263 non-null    object \n",
      " 5   Rating          62 non-null     float64\n",
      " 6   Review Count    62 non-null     float64\n",
      " 7   Skills Covered  267 non-null    object \n",
      " 8   Prerequisites   77 non-null     object \n",
      " 9   Affiliates      138 non-null    object \n",
      " 10  URL             267 non-null    object \n",
      "dtypes: float64(2), object(9)\n",
      "memory usage: 23.1+ KB\n"
     ]
    }
   ],
   "source": [
    "df.info()"
   ]
  },
  {
   "cell_type": "code",
   "execution_count": 100,
   "metadata": {},
   "outputs": [
    {
     "data": {
      "text/plain": [
       "Title               0\n",
       "Type                0\n",
       "Description         6\n",
       "Level               2\n",
       "Duration            4\n",
       "Rating            205\n",
       "Review Count      205\n",
       "Skills Covered      0\n",
       "Prerequisites     190\n",
       "Affiliates        129\n",
       "URL                 0\n",
       "dtype: int64"
      ]
     },
     "execution_count": 100,
     "metadata": {},
     "output_type": "execute_result"
    }
   ],
   "source": [
    "df.isnull().sum()"
   ]
  },
  {
   "cell_type": "markdown",
   "metadata": {},
   "source": [
    "## Data Cleaning"
   ]
  },
  {
   "cell_type": "code",
   "execution_count": 101,
   "metadata": {},
   "outputs": [],
   "source": [
    "# Removing duplicate rows\n",
    "df = df.drop_duplicates()\n"
   ]
  },
  {
   "cell_type": "code",
   "execution_count": 102,
   "metadata": {},
   "outputs": [],
   "source": [
    "df['Level'].fillna(df['Level'].mode()[0], inplace=True)\n",
    "df['Skills Covered'].fillna(df['Skills Covered'].mode()[0], inplace=True)"
   ]
  },
  {
   "cell_type": "code",
   "execution_count": 103,
   "metadata": {},
   "outputs": [
    {
     "name": "stdout",
     "output_type": "stream",
     "text": [
      "0    Learn to design data models, build data wareho...\n",
      "1    Envision and execute the development of indust...\n",
      "2    Get hands-on experience building five real-wor...\n",
      "3    Gain foundational data skills like analyzing d...\n",
      "4    Build effective machine learning models, run d...\n",
      "Name: Description, dtype: object\n"
     ]
    }
   ],
   "source": [
    "print(df['Description'].head())"
   ]
  },
  {
   "cell_type": "code",
   "execution_count": 104,
   "metadata": {},
   "outputs": [],
   "source": [
    "\n",
    "df['Review Count'].fillna(df['Review Count'].median(), inplace=True)\n",
    "df['Rating'].fillna(df['Rating'].mean(), inplace=True)\n"
   ]
  },
  {
   "cell_type": "markdown",
   "metadata": {},
   "source": [
    "##Model_training"
   ]
  },
  {
   "cell_type": "code",
   "execution_count": 105,
   "metadata": {},
   "outputs": [],
   "source": [
    "from sklearn.model_selection import train_test_split\n",
    "\n",
    "train_data, test_data = train_test_split(df, test_size=0.2, random_state=42)\n"
   ]
  },
  {
   "cell_type": "markdown",
   "metadata": {},
   "source": [
    "## Simplifying data"
   ]
  },
  {
   "cell_type": "code",
   "execution_count": 106,
   "metadata": {},
   "outputs": [],
   "source": [
    "df = df[['Title','Level','Description','Skills Covered']]"
   ]
  },
  {
   "cell_type": "code",
   "execution_count": 107,
   "metadata": {},
   "outputs": [],
   "source": [
    "df.dropna(subset=['Title'], inplace=True)  \n",
    "df['Level'].fillna('Unknown', inplace=True)  \n"
   ]
  },
  {
   "cell_type": "code",
   "execution_count": 108,
   "metadata": {},
   "outputs": [
    {
     "data": {
      "text/html": [
       "<div>\n",
       "<style scoped>\n",
       "    .dataframe tbody tr th:only-of-type {\n",
       "        vertical-align: middle;\n",
       "    }\n",
       "\n",
       "    .dataframe tbody tr th {\n",
       "        vertical-align: top;\n",
       "    }\n",
       "\n",
       "    .dataframe thead th {\n",
       "        text-align: right;\n",
       "    }\n",
       "</style>\n",
       "<table border=\"1\" class=\"dataframe\">\n",
       "  <thead>\n",
       "    <tr style=\"text-align: right;\">\n",
       "      <th></th>\n",
       "      <th>Title</th>\n",
       "      <th>Level</th>\n",
       "      <th>Description</th>\n",
       "      <th>Skills Covered</th>\n",
       "    </tr>\n",
       "  </thead>\n",
       "  <tbody>\n",
       "    <tr>\n",
       "      <th>0</th>\n",
       "      <td>Data Engineering with AWS</td>\n",
       "      <td>intermediate</td>\n",
       "      <td>Learn to design data models, build data wareho...</td>\n",
       "      <td>AWS Glue,  Amazon S3,  AWS Data Warehouse,  Re...</td>\n",
       "    </tr>\n",
       "    <tr>\n",
       "      <th>1</th>\n",
       "      <td>Product Manager</td>\n",
       "      <td>beginner</td>\n",
       "      <td>Envision and execute the development of indust...</td>\n",
       "      <td>Product Strategy, Product Design, Product Deve...</td>\n",
       "    </tr>\n",
       "    <tr>\n",
       "      <th>2</th>\n",
       "      <td>C++</td>\n",
       "      <td>intermediate</td>\n",
       "      <td>Get hands-on experience building five real-wor...</td>\n",
       "      <td>Data Structures &amp; Algorithms, Memory Managemen...</td>\n",
       "    </tr>\n",
       "    <tr>\n",
       "      <th>3</th>\n",
       "      <td>Business Analytics</td>\n",
       "      <td>beginner</td>\n",
       "      <td>Gain foundational data skills like analyzing d...</td>\n",
       "      <td>Excel &amp; Spreadsheets, SQL, Data Visualization,...</td>\n",
       "    </tr>\n",
       "    <tr>\n",
       "      <th>4</th>\n",
       "      <td>Data Scientist</td>\n",
       "      <td>advanced</td>\n",
       "      <td>Build effective machine learning models, run d...</td>\n",
       "      <td>Machine Learning, Deep Learning, Software Engi...</td>\n",
       "    </tr>\n",
       "  </tbody>\n",
       "</table>\n",
       "</div>"
      ],
      "text/plain": [
       "                       Title         Level  \\\n",
       "0  Data Engineering with AWS  intermediate   \n",
       "1            Product Manager      beginner   \n",
       "2                        C++  intermediate   \n",
       "3         Business Analytics      beginner   \n",
       "4             Data Scientist      advanced   \n",
       "\n",
       "                                         Description  \\\n",
       "0  Learn to design data models, build data wareho...   \n",
       "1  Envision and execute the development of indust...   \n",
       "2  Get hands-on experience building five real-wor...   \n",
       "3  Gain foundational data skills like analyzing d...   \n",
       "4  Build effective machine learning models, run d...   \n",
       "\n",
       "                                      Skills Covered  \n",
       "0  AWS Glue,  Amazon S3,  AWS Data Warehouse,  Re...  \n",
       "1  Product Strategy, Product Design, Product Deve...  \n",
       "2  Data Structures & Algorithms, Memory Managemen...  \n",
       "3  Excel & Spreadsheets, SQL, Data Visualization,...  \n",
       "4  Machine Learning, Deep Learning, Software Engi...  "
      ]
     },
     "execution_count": 108,
     "metadata": {},
     "output_type": "execute_result"
    }
   ],
   "source": [
    "df.head(5)"
   ]
  },
  {
   "cell_type": "code",
   "execution_count": 109,
   "metadata": {},
   "outputs": [],
   "source": [
    "df['tags'] = df['Description'] + ' ' + df['Title'] + ' ' + df['Skills Covered']\n",
    "df['tags'] = df['tags'].str.lower()"
   ]
  },
  {
   "cell_type": "code",
   "execution_count": 110,
   "metadata": {},
   "outputs": [
    {
     "data": {
      "text/html": [
       "<div>\n",
       "<style scoped>\n",
       "    .dataframe tbody tr th:only-of-type {\n",
       "        vertical-align: middle;\n",
       "    }\n",
       "\n",
       "    .dataframe tbody tr th {\n",
       "        vertical-align: top;\n",
       "    }\n",
       "\n",
       "    .dataframe thead th {\n",
       "        text-align: right;\n",
       "    }\n",
       "</style>\n",
       "<table border=\"1\" class=\"dataframe\">\n",
       "  <thead>\n",
       "    <tr style=\"text-align: right;\">\n",
       "      <th></th>\n",
       "      <th>Title</th>\n",
       "      <th>Level</th>\n",
       "      <th>Description</th>\n",
       "      <th>Skills Covered</th>\n",
       "      <th>tags</th>\n",
       "    </tr>\n",
       "  </thead>\n",
       "  <tbody>\n",
       "    <tr>\n",
       "      <th>0</th>\n",
       "      <td>Data Engineering with AWS</td>\n",
       "      <td>intermediate</td>\n",
       "      <td>Learn to design data models, build data wareho...</td>\n",
       "      <td>AWS Glue,  Amazon S3,  AWS Data Warehouse,  Re...</td>\n",
       "      <td>learn to design data models, build data wareho...</td>\n",
       "    </tr>\n",
       "    <tr>\n",
       "      <th>1</th>\n",
       "      <td>Product Manager</td>\n",
       "      <td>beginner</td>\n",
       "      <td>Envision and execute the development of indust...</td>\n",
       "      <td>Product Strategy, Product Design, Product Deve...</td>\n",
       "      <td>envision and execute the development of indust...</td>\n",
       "    </tr>\n",
       "    <tr>\n",
       "      <th>2</th>\n",
       "      <td>C++</td>\n",
       "      <td>intermediate</td>\n",
       "      <td>Get hands-on experience building five real-wor...</td>\n",
       "      <td>Data Structures &amp; Algorithms, Memory Managemen...</td>\n",
       "      <td>get hands-on experience building five real-wor...</td>\n",
       "    </tr>\n",
       "    <tr>\n",
       "      <th>3</th>\n",
       "      <td>Business Analytics</td>\n",
       "      <td>beginner</td>\n",
       "      <td>Gain foundational data skills like analyzing d...</td>\n",
       "      <td>Excel &amp; Spreadsheets, SQL, Data Visualization,...</td>\n",
       "      <td>gain foundational data skills like analyzing d...</td>\n",
       "    </tr>\n",
       "    <tr>\n",
       "      <th>4</th>\n",
       "      <td>Data Scientist</td>\n",
       "      <td>advanced</td>\n",
       "      <td>Build effective machine learning models, run d...</td>\n",
       "      <td>Machine Learning, Deep Learning, Software Engi...</td>\n",
       "      <td>build effective machine learning models, run d...</td>\n",
       "    </tr>\n",
       "    <tr>\n",
       "      <th>...</th>\n",
       "      <td>...</td>\n",
       "      <td>...</td>\n",
       "      <td>...</td>\n",
       "      <td>...</td>\n",
       "      <td>...</td>\n",
       "    </tr>\n",
       "    <tr>\n",
       "      <th>262</th>\n",
       "      <td>Front-End Interview Prep</td>\n",
       "      <td>intermediate</td>\n",
       "      <td>Answer front-end technical and behavioral inte...</td>\n",
       "      <td>Interview questions, Common FE Questions, Whit...</td>\n",
       "      <td>answer front-end technical and behavioral inte...</td>\n",
       "    </tr>\n",
       "    <tr>\n",
       "      <th>263</th>\n",
       "      <td>Full-Stack Interview Prep</td>\n",
       "      <td>intermediate</td>\n",
       "      <td>Answer common full stack and web security inte...</td>\n",
       "      <td>Interview practice, Common FS Questions, White...</td>\n",
       "      <td>answer common full stack and web security inte...</td>\n",
       "    </tr>\n",
       "    <tr>\n",
       "      <th>264</th>\n",
       "      <td>Data Structures &amp; Algorithms in Swift</td>\n",
       "      <td>intermediate</td>\n",
       "      <td>Review and practice the skills technical inter...</td>\n",
       "      <td>Interview practice, Swift, Data structures, Ca...</td>\n",
       "      <td>review and practice the skills technical inter...</td>\n",
       "    </tr>\n",
       "    <tr>\n",
       "      <th>265</th>\n",
       "      <td>iOS Interview Prep</td>\n",
       "      <td>intermediate</td>\n",
       "      <td>Answer iOS and mobile development interview qu...</td>\n",
       "      <td>Interview practice, Common iOS Questions, Whit...</td>\n",
       "      <td>answer ios and mobile development interview qu...</td>\n",
       "    </tr>\n",
       "    <tr>\n",
       "      <th>266</th>\n",
       "      <td>VR Interview Prep</td>\n",
       "      <td>intermediate</td>\n",
       "      <td>Learn how to tackle interview questions for te...</td>\n",
       "      <td>Interview practice, Common VR Questions, White...</td>\n",
       "      <td>learn how to tackle interview questions for te...</td>\n",
       "    </tr>\n",
       "  </tbody>\n",
       "</table>\n",
       "<p>267 rows × 5 columns</p>\n",
       "</div>"
      ],
      "text/plain": [
       "                                     Title         Level  \\\n",
       "0                Data Engineering with AWS  intermediate   \n",
       "1                          Product Manager      beginner   \n",
       "2                                      C++  intermediate   \n",
       "3                       Business Analytics      beginner   \n",
       "4                           Data Scientist      advanced   \n",
       "..                                     ...           ...   \n",
       "262               Front-End Interview Prep  intermediate   \n",
       "263              Full-Stack Interview Prep  intermediate   \n",
       "264  Data Structures & Algorithms in Swift  intermediate   \n",
       "265                     iOS Interview Prep  intermediate   \n",
       "266                      VR Interview Prep  intermediate   \n",
       "\n",
       "                                           Description  \\\n",
       "0    Learn to design data models, build data wareho...   \n",
       "1    Envision and execute the development of indust...   \n",
       "2    Get hands-on experience building five real-wor...   \n",
       "3    Gain foundational data skills like analyzing d...   \n",
       "4    Build effective machine learning models, run d...   \n",
       "..                                                 ...   \n",
       "262  Answer front-end technical and behavioral inte...   \n",
       "263  Answer common full stack and web security inte...   \n",
       "264  Review and practice the skills technical inter...   \n",
       "265  Answer iOS and mobile development interview qu...   \n",
       "266  Learn how to tackle interview questions for te...   \n",
       "\n",
       "                                        Skills Covered  \\\n",
       "0    AWS Glue,  Amazon S3,  AWS Data Warehouse,  Re...   \n",
       "1    Product Strategy, Product Design, Product Deve...   \n",
       "2    Data Structures & Algorithms, Memory Managemen...   \n",
       "3    Excel & Spreadsheets, SQL, Data Visualization,...   \n",
       "4    Machine Learning, Deep Learning, Software Engi...   \n",
       "..                                                 ...   \n",
       "262  Interview questions, Common FE Questions, Whit...   \n",
       "263  Interview practice, Common FS Questions, White...   \n",
       "264  Interview practice, Swift, Data structures, Ca...   \n",
       "265  Interview practice, Common iOS Questions, Whit...   \n",
       "266  Interview practice, Common VR Questions, White...   \n",
       "\n",
       "                                                  tags  \n",
       "0    learn to design data models, build data wareho...  \n",
       "1    envision and execute the development of indust...  \n",
       "2    get hands-on experience building five real-wor...  \n",
       "3    gain foundational data skills like analyzing d...  \n",
       "4    build effective machine learning models, run d...  \n",
       "..                                                 ...  \n",
       "262  answer front-end technical and behavioral inte...  \n",
       "263  answer common full stack and web security inte...  \n",
       "264  review and practice the skills technical inter...  \n",
       "265  answer ios and mobile development interview qu...  \n",
       "266  learn how to tackle interview questions for te...  \n",
       "\n",
       "[267 rows x 5 columns]"
      ]
     },
     "execution_count": 110,
     "metadata": {},
     "output_type": "execute_result"
    }
   ],
   "source": [
    "df"
   ]
  },
  {
   "cell_type": "markdown",
   "metadata": {},
   "source": [
    "## Data Pre-Processing"
   ]
  },
  {
   "cell_type": "code",
   "execution_count": 111,
   "metadata": {},
   "outputs": [
    {
     "data": {
      "text/html": [
       "<div>\n",
       "<style scoped>\n",
       "    .dataframe tbody tr th:only-of-type {\n",
       "        vertical-align: middle;\n",
       "    }\n",
       "\n",
       "    .dataframe tbody tr th {\n",
       "        vertical-align: top;\n",
       "    }\n",
       "\n",
       "    .dataframe thead th {\n",
       "        text-align: right;\n",
       "    }\n",
       "</style>\n",
       "<table border=\"1\" class=\"dataframe\">\n",
       "  <thead>\n",
       "    <tr style=\"text-align: right;\">\n",
       "      <th></th>\n",
       "      <th>Title</th>\n",
       "      <th>Level</th>\n",
       "      <th>Description</th>\n",
       "      <th>Skills Covered</th>\n",
       "      <th>tags</th>\n",
       "    </tr>\n",
       "  </thead>\n",
       "  <tbody>\n",
       "    <tr>\n",
       "      <th>0</th>\n",
       "      <td>Data Engineering with AWS</td>\n",
       "      <td>intermediate</td>\n",
       "      <td>Learn to design data models, build data wareho...</td>\n",
       "      <td>AWS Glue,  Amazon S3,  AWS Data Warehouse,  Re...</td>\n",
       "      <td>learn to design data models, build data wareho...</td>\n",
       "    </tr>\n",
       "    <tr>\n",
       "      <th>1</th>\n",
       "      <td>Product Manager</td>\n",
       "      <td>beginner</td>\n",
       "      <td>Envision and execute the development of indust...</td>\n",
       "      <td>Product Strategy, Product Design, Product Deve...</td>\n",
       "      <td>envision and execute the development of indust...</td>\n",
       "    </tr>\n",
       "    <tr>\n",
       "      <th>2</th>\n",
       "      <td>C++</td>\n",
       "      <td>intermediate</td>\n",
       "      <td>Get hands-on experience building five real-wor...</td>\n",
       "      <td>Data Structures &amp; Algorithms, Memory Managemen...</td>\n",
       "      <td>get hands-on experience building five real-wor...</td>\n",
       "    </tr>\n",
       "    <tr>\n",
       "      <th>3</th>\n",
       "      <td>Business Analytics</td>\n",
       "      <td>beginner</td>\n",
       "      <td>Gain foundational data skills like analyzing d...</td>\n",
       "      <td>Excel &amp; Spreadsheets, SQL, Data Visualization,...</td>\n",
       "      <td>gain foundational data skills like analyzing d...</td>\n",
       "    </tr>\n",
       "    <tr>\n",
       "      <th>4</th>\n",
       "      <td>Data Scientist</td>\n",
       "      <td>advanced</td>\n",
       "      <td>Build effective machine learning models, run d...</td>\n",
       "      <td>Machine Learning, Deep Learning, Software Engi...</td>\n",
       "      <td>build effective machine learning models, run d...</td>\n",
       "    </tr>\n",
       "  </tbody>\n",
       "</table>\n",
       "</div>"
      ],
      "text/plain": [
       "                       Title         Level  \\\n",
       "0  Data Engineering with AWS  intermediate   \n",
       "1            Product Manager      beginner   \n",
       "2                        C++  intermediate   \n",
       "3         Business Analytics      beginner   \n",
       "4             Data Scientist      advanced   \n",
       "\n",
       "                                         Description  \\\n",
       "0  Learn to design data models, build data wareho...   \n",
       "1  Envision and execute the development of indust...   \n",
       "2  Get hands-on experience building five real-wor...   \n",
       "3  Gain foundational data skills like analyzing d...   \n",
       "4  Build effective machine learning models, run d...   \n",
       "\n",
       "                                      Skills Covered  \\\n",
       "0  AWS Glue,  Amazon S3,  AWS Data Warehouse,  Re...   \n",
       "1  Product Strategy, Product Design, Product Deve...   \n",
       "2  Data Structures & Algorithms, Memory Managemen...   \n",
       "3  Excel & Spreadsheets, SQL, Data Visualization,...   \n",
       "4  Machine Learning, Deep Learning, Software Engi...   \n",
       "\n",
       "                                                tags  \n",
       "0  learn to design data models, build data wareho...  \n",
       "1  envision and execute the development of indust...  \n",
       "2  get hands-on experience building five real-wor...  \n",
       "3  gain foundational data skills like analyzing d...  \n",
       "4  build effective machine learning models, run d...  "
      ]
     },
     "execution_count": 111,
     "metadata": {},
     "output_type": "execute_result"
    }
   ],
   "source": [
    "df['tags'] = df['tags'].str.replace('[^\\w\\s]', \" \")\n",
    "df.head()"
   ]
  },
  {
   "cell_type": "code",
   "execution_count": 112,
   "metadata": {},
   "outputs": [
    {
     "data": {
      "text/plain": [
       "0      learn to design data models, build data wareho...\n",
       "1      envision and execute the development of indust...\n",
       "2      get hands-on experience building five real-wor...\n",
       "3      gain foundational data skills like analyzing d...\n",
       "4      build effective machine learning models, run d...\n",
       "                             ...                        \n",
       "262    answer front-end technical and behavioral inte...\n",
       "263    answer common full stack and web security inte...\n",
       "264    review and practice the skills technical inter...\n",
       "265    answer ios and mobile development interview qu...\n",
       "266    learn how to tackle interview questions for te...\n",
       "Name: tags, Length: 267, dtype: object"
      ]
     },
     "execution_count": 112,
     "metadata": {},
     "output_type": "execute_result"
    }
   ],
   "source": [
    "df['tags']"
   ]
  },
  {
   "cell_type": "code",
   "execution_count": 113,
   "metadata": {},
   "outputs": [
    {
     "data": {
      "text/html": [
       "<div>\n",
       "<style scoped>\n",
       "    .dataframe tbody tr th:only-of-type {\n",
       "        vertical-align: middle;\n",
       "    }\n",
       "\n",
       "    .dataframe tbody tr th {\n",
       "        vertical-align: top;\n",
       "    }\n",
       "\n",
       "    .dataframe thead th {\n",
       "        text-align: right;\n",
       "    }\n",
       "</style>\n",
       "<table border=\"1\" class=\"dataframe\">\n",
       "  <thead>\n",
       "    <tr style=\"text-align: right;\">\n",
       "      <th></th>\n",
       "      <th>Title</th>\n",
       "      <th>Level</th>\n",
       "      <th>Description</th>\n",
       "      <th>Skills Covered</th>\n",
       "      <th>tags</th>\n",
       "    </tr>\n",
       "  </thead>\n",
       "  <tbody>\n",
       "    <tr>\n",
       "      <th>0</th>\n",
       "      <td>Data Engineering with AWS</td>\n",
       "      <td>intermediate</td>\n",
       "      <td>Learn to design data models, build data wareho...</td>\n",
       "      <td>AWS Glue,  Amazon S3,  AWS Data Warehouse,  Re...</td>\n",
       "      <td>learn to design data models, build data wareho...</td>\n",
       "    </tr>\n",
       "    <tr>\n",
       "      <th>1</th>\n",
       "      <td>Product Manager</td>\n",
       "      <td>beginner</td>\n",
       "      <td>Envision and execute the development of indust...</td>\n",
       "      <td>Product Strategy, Product Design, Product Deve...</td>\n",
       "      <td>envision and execute the development of indust...</td>\n",
       "    </tr>\n",
       "    <tr>\n",
       "      <th>2</th>\n",
       "      <td>C++</td>\n",
       "      <td>intermediate</td>\n",
       "      <td>Get hands-on experience building five real-wor...</td>\n",
       "      <td>Data Structures &amp; Algorithms, Memory Managemen...</td>\n",
       "      <td>get hands-on experience building five real-wor...</td>\n",
       "    </tr>\n",
       "    <tr>\n",
       "      <th>3</th>\n",
       "      <td>Business Analytics</td>\n",
       "      <td>beginner</td>\n",
       "      <td>Gain foundational data skills like analyzing d...</td>\n",
       "      <td>Excel &amp; Spreadsheets, SQL, Data Visualization,...</td>\n",
       "      <td>gain foundational data skills like analyzing d...</td>\n",
       "    </tr>\n",
       "    <tr>\n",
       "      <th>4</th>\n",
       "      <td>Data Scientist</td>\n",
       "      <td>advanced</td>\n",
       "      <td>Build effective machine learning models, run d...</td>\n",
       "      <td>Machine Learning, Deep Learning, Software Engi...</td>\n",
       "      <td>build effective machine learning models, run d...</td>\n",
       "    </tr>\n",
       "  </tbody>\n",
       "</table>\n",
       "</div>"
      ],
      "text/plain": [
       "                       Title         Level  \\\n",
       "0  Data Engineering with AWS  intermediate   \n",
       "1            Product Manager      beginner   \n",
       "2                        C++  intermediate   \n",
       "3         Business Analytics      beginner   \n",
       "4             Data Scientist      advanced   \n",
       "\n",
       "                                         Description  \\\n",
       "0  Learn to design data models, build data wareho...   \n",
       "1  Envision and execute the development of indust...   \n",
       "2  Get hands-on experience building five real-wor...   \n",
       "3  Gain foundational data skills like analyzing d...   \n",
       "4  Build effective machine learning models, run d...   \n",
       "\n",
       "                                      Skills Covered  \\\n",
       "0  AWS Glue,  Amazon S3,  AWS Data Warehouse,  Re...   \n",
       "1  Product Strategy, Product Design, Product Deve...   \n",
       "2  Data Structures & Algorithms, Memory Managemen...   \n",
       "3  Excel & Spreadsheets, SQL, Data Visualization,...   \n",
       "4  Machine Learning, Deep Learning, Software Engi...   \n",
       "\n",
       "                                                tags  \n",
       "0  learn to design data models, build data wareho...  \n",
       "1  envision and execute the development of indust...  \n",
       "2  get hands-on experience building five real-wor...  \n",
       "3  gain foundational data skills like analyzing d...  \n",
       "4  build effective machine learning models, run d...  "
      ]
     },
     "execution_count": 113,
     "metadata": {},
     "output_type": "execute_result"
    }
   ],
   "source": [
    "df.head(5)"
   ]
  },
  {
   "cell_type": "code",
   "execution_count": 114,
   "metadata": {},
   "outputs": [
    {
     "data": {
      "text/plain": [
       "'envision and execute the development of industry-defining products, and learn how to successfully bring them to market. product manager product strategy, product design, product development, design sprint, product launch'"
      ]
     },
     "execution_count": 114,
     "metadata": {},
     "output_type": "execute_result"
    }
   ],
   "source": [
    "df['tags'].iloc[1]"
   ]
  },
  {
   "cell_type": "code",
   "execution_count": 124,
   "metadata": {},
   "outputs": [],
   "source": [
    "new_df = df[['Title','tags']]"
   ]
  },
  {
   "cell_type": "code",
   "execution_count": 115,
   "metadata": {},
   "outputs": [],
   "source": []
  },
  {
   "cell_type": "code",
   "execution_count": 116,
   "metadata": {},
   "outputs": [
    {
     "data": {
      "text/html": [
       "<div>\n",
       "<style scoped>\n",
       "    .dataframe tbody tr th:only-of-type {\n",
       "        vertical-align: middle;\n",
       "    }\n",
       "\n",
       "    .dataframe tbody tr th {\n",
       "        vertical-align: top;\n",
       "    }\n",
       "\n",
       "    .dataframe thead th {\n",
       "        text-align: right;\n",
       "    }\n",
       "</style>\n",
       "<table border=\"1\" class=\"dataframe\">\n",
       "  <thead>\n",
       "    <tr style=\"text-align: right;\">\n",
       "      <th></th>\n",
       "      <th>Title</th>\n",
       "      <th>tags</th>\n",
       "    </tr>\n",
       "  </thead>\n",
       "  <tbody>\n",
       "    <tr>\n",
       "      <th>0</th>\n",
       "      <td>Data Engineering with AWS</td>\n",
       "      <td>learn to design data models, build data wareho...</td>\n",
       "    </tr>\n",
       "    <tr>\n",
       "      <th>1</th>\n",
       "      <td>Product Manager</td>\n",
       "      <td>envision and execute the development of indust...</td>\n",
       "    </tr>\n",
       "    <tr>\n",
       "      <th>2</th>\n",
       "      <td>C++</td>\n",
       "      <td>get hands-on experience building five real-wor...</td>\n",
       "    </tr>\n",
       "    <tr>\n",
       "      <th>3</th>\n",
       "      <td>Business Analytics</td>\n",
       "      <td>gain foundational data skills like analyzing d...</td>\n",
       "    </tr>\n",
       "    <tr>\n",
       "      <th>4</th>\n",
       "      <td>Data Scientist</td>\n",
       "      <td>build effective machine learning models, run d...</td>\n",
       "    </tr>\n",
       "  </tbody>\n",
       "</table>\n",
       "</div>"
      ],
      "text/plain": [
       "                       Title  \\\n",
       "0  Data Engineering with AWS   \n",
       "1            Product Manager   \n",
       "2                        C++   \n",
       "3         Business Analytics   \n",
       "4             Data Scientist   \n",
       "\n",
       "                                                tags  \n",
       "0  learn to design data models, build data wareho...  \n",
       "1  envision and execute the development of indust...  \n",
       "2  get hands-on experience building five real-wor...  \n",
       "3  gain foundational data skills like analyzing d...  \n",
       "4  build effective machine learning models, run d...  "
      ]
     },
     "execution_count": 116,
     "metadata": {},
     "output_type": "execute_result"
    }
   ],
   "source": [
    "new_df.head(5)"
   ]
  },
  {
   "cell_type": "code",
   "execution_count": 117,
   "metadata": {},
   "outputs": [
    {
     "data": {
      "text/plain": [
       "(267, 2)"
      ]
     },
     "execution_count": 117,
     "metadata": {},
     "output_type": "execute_result"
    }
   ],
   "source": [
    "new_df.shape"
   ]
  },
  {
   "cell_type": "markdown",
   "metadata": {},
   "source": [
    "## Text vectorization"
   ]
  },
  {
   "cell_type": "code",
   "execution_count": 118,
   "metadata": {},
   "outputs": [],
   "source": [
    "from sklearn.feature_extraction.text import CountVectorizer\n",
    "\n",
    "# a copy of the 'tags' column\n",
    "tags_copy = new_df['tags'].copy()\n",
    "\n",
    "tags_copy.fillna('', inplace=True)\n",
    "cv = CountVectorizer(max_features=5000, stop_words='english')\n",
    "count_matrix = cv.fit_transform(tags_copy)\n",
    "vectors = cv.fit_transform(tags_copy).toarray()\n"
   ]
  },
  {
   "cell_type": "code",
   "execution_count": 119,
   "metadata": {},
   "outputs": [
    {
     "name": "stderr",
     "output_type": "stream",
     "text": [
      "C:\\Users\\ishs4\\AppData\\Local\\Temp\\ipykernel_9040\\2296560127.py:4: SettingWithCopyWarning: \n",
      "A value is trying to be set on a copy of a slice from a DataFrame.\n",
      "Try using .loc[row_indexer,col_indexer] = value instead\n",
      "\n",
      "See the caveats in the documentation: https://pandas.pydata.org/pandas-docs/stable/user_guide/indexing.html#returning-a-view-versus-a-copy\n",
      "  new_df['tags'] = new_df['tags'].replace(np.nan, '')\n"
     ]
    }
   ],
   "source": [
    "import numpy as np\n",
    "\n",
    "# Replace NaN values in the 'tags' column with an empty string\n",
    "new_df['tags'] = new_df['tags'].replace(np.nan, '')\n",
    "\n",
    "\n"
   ]
  },
  {
   "cell_type": "markdown",
   "metadata": {},
   "source": [
    "## Similarity Measure"
   ]
  },
  {
   "cell_type": "code",
   "execution_count": 120,
   "metadata": {},
   "outputs": [
    {
     "data": {
      "text/plain": [
       "0    learn to design data models, build data wareho...\n",
       "1    envision and execute the development of indust...\n",
       "2    get hands-on experience building five real-wor...\n",
       "3    gain foundational data skills like analyzing d...\n",
       "4    build effective machine learning models, run d...\n",
       "Name: tags, dtype: object"
      ]
     },
     "execution_count": 120,
     "metadata": {},
     "output_type": "execute_result"
    }
   ],
   "source": [
    "df['tags'].head()"
   ]
  },
  {
   "cell_type": "code",
   "execution_count": 121,
   "metadata": {},
   "outputs": [],
   "source": [
    "from sklearn.feature_extraction.text import CountVectorizer\n",
    "from sklearn.metrics.pairwise import cosine_similarity\n",
    "\n",
    "\n",
    "new_df = new_df.copy()\n",
    "new_df['tags'].fillna(' ', inplace=True)\n",
    "\n",
    "text_data = new_df['tags']\n",
    "\n",
    "# Count Vectorizer\n",
    "vectorizer = CountVectorizer()\n",
    "matrix = vectorizer.fit_transform(text_data)\n",
    "cosine_sim = cosine_similarity(matrix , matrix)\n",
    "\n"
   ]
  },
  {
   "cell_type": "code",
   "execution_count": 122,
   "metadata": {},
   "outputs": [],
   "source": [
    "\n",
    "\n",
    "def get_internship(tags):\n",
    "    selected_tags = ', '.join(tags)\n",
    "\n",
    "    user_vector = cv.transform([selected_tags])\n",
    "    cosine_sim_with_selected_tags = cosine_similarity(user_vector, count_matrix)\n",
    "\n",
    "    sim_scores = list(enumerate(cosine_sim_with_selected_tags[0]))\n",
    "    sim_scores = sorted(sim_scores, key=lambda x: x[1], reverse=True)\n",
    "\n",
    "    indices = [score[0] for score in sim_scores[:5]]\n",
    "    recommendations = []\n",
    "    for i in indices:\n",
    "        recommendations.append({\"courses\": new_df['Title'].iloc[i], \"Description\": new_df[\"Description\"].iloc[i],\n",
    "                                \"Level\": new_df[\"Level\"].iloc[i], \"Duration\": new_df[\"Duration\"].iloc[i],\n",
    "                                \"Skills Covered\": new_df['Skills Covered'].iloc[i],\n",
    "                                \"prerequisites\": new_df['Prerequisites'].iloc[i], \"URL\": new_df['URL'].iloc[i]})\n",
    "    \n",
    "    return recommendations\n"
   ]
  },
  {
   "cell_type": "code",
   "execution_count": null,
   "metadata": {},
   "outputs": [
    {
     "name": "stdout",
     "output_type": "stream",
     "text": [
      "Matching Courses:\n",
      "['Introduction to Programming', 'Data Analyst', 'Programming for Data Science with Python', 'Full Stack Web Developer', 'AI Programming with Python', 'Intermediate Python', 'Data Structures and Algorithms', 'Linear Algebra Refresher Course', 'Authentication & Authorization: OAuth', 'Designing RESTful APIs', 'Introduction to Python Programming', 'Full Stack Foundations', 'Design of Computer Programs', 'Software Debugging', 'Intro to Relational Databases', 'HTTP & Web Servers', 'Intro to Data Analysis', 'Differential Equations in Action']\n"
     ]
    }
   ],
   "source": [
    "# def search_courses(keyword, df):\n",
    "#     matching_courses = df[df['tags'].str.contains(keyword, case=False, na=False)]\n",
    "    \n",
    "#     if not matching_courses.empty:\n",
    "#         return matching_courses['Title'].tolist()\n",
    "#     else:\n",
    "#         return \"No matching courses found.\"\n",
    "\n",
    "# # Example\n",
    "# search_keyword = 'Python'  \n",
    "# matching_courses = search_courses(search_keyword, df)\n",
    "\n",
    "# print(\"Matching Courses:\")\n",
    "# print(matching_courses)\n"
   ]
  },
  {
   "cell_type": "code",
   "execution_count": null,
   "metadata": {},
   "outputs": [],
   "source": [
    "# # In Recommendation_system_courses.ipynb\n",
    "# # Save the recommendation function\n",
    "# %run -i \"./recommendation_module.py\"\n",
    "# #"
   ]
  },
  {
   "cell_type": "code",
   "execution_count": null,
   "metadata": {},
   "outputs": [],
   "source": [
    "\n",
    "# def recommend_courses(keyword, similarity_matrix, df, top_n=5):\n",
    "#     #  index of the course matching the keyword\n",
    "#     keyword_index = df[df['tags'].str.contains(keyword, case=False, na=False)].index\n",
    "#     if not keyword_index.empty:\n",
    "#         keyword_index = keyword_index[0]\n",
    "#     else:\n",
    "#         return []\n",
    "\n",
    "#     #  similarity scores for the keyword course\n",
    "#     similarity_scores = list(enumerate(similarity_matrix[keyword_index]))\n",
    "\n",
    "#     # Sort based on similarity scores\n",
    "#     sorted_courses = sorted(similarity_scores, key=lambda x: x[1], reverse=True)\n",
    "\n",
    "#     # Exclude the keyword course itself\n",
    "#     sorted_courses = [index for index, _ in sorted_courses if index != keyword_index]\n",
    "\n",
    "#     # Return the top N recommended courses\n",
    "#     return df['Title'].iloc[sorted_courses[:top_n]].tolist()"
   ]
  }
 ],
 "metadata": {
  "kernelspec": {
   "display_name": "Python 3",
   "language": "python",
   "name": "python3"
  },
  "language_info": {
   "codemirror_mode": {
    "name": "ipython",
    "version": 3
   },
   "file_extension": ".py",
   "mimetype": "text/x-python",
   "name": "python",
   "nbconvert_exporter": "python",
   "pygments_lexer": "ipython3",
   "version": "3.11.6"
  }
 },
 "nbformat": 4,
 "nbformat_minor": 2
}
